{
 "cells": [
  {
   "cell_type": "markdown",
   "id": "d8eefd51",
   "metadata": {},
   "source": [
    " `.format()` is one of Python’s classic string formatting tools, and it’s surprisingly versatile once you peek under the hood. Here's a breakdown tailored to your level:\n",
    "\n",
    "---\n",
    "\n",
    "### 🧩 What Is `.format()`?\n",
    "\n",
    "The `.format()` method lets you **insert values into a string template** using placeholders `{}`. It’s like saying:  \n",
    "_\"Here’s a sentence with blanks — now fill them in with these values.\"_\n",
    "\n",
    "---\n",
    "\n",
    "### 🔧 Basic Syntax\n",
    "\n",
    "```python\n",
    "\"Hello, {}\".format(\"Prateek\")\n",
    "# Output: \"Hello, Prateek\"\n",
    "```\n",
    "\n",
    "You can also use **positional** or **named** placeholders:\n",
    "\n",
    "```python\n",
    "\"{} scored {} runs.\".format(\"Kohli\", 82)\n",
    "# Output: \"Kohli scored 82 runs.\"\n",
    "\n",
    "\"{player} scored {runs} runs.\".format(player=\"Kohli\", runs=82)\n",
    "# Output: \"Kohli scored 82 runs.\"\n",
    "```\n",
    "\n",
    "---\n",
    "\n",
    "### 📐 Formatting Numbers\n",
    "\n",
    "This is where it gets powerful — especially for automation and dashboards:\n",
    "\n",
    "```python\n",
    "\"{:,}\".format(1000000)\n",
    "# Output: '1,000,000'  → adds thousand separators\n",
    "\n",
    "\"{:.2f}\".format(3.14159)\n",
    "# Output: '3.14'  → rounds to 2 decimal places\n",
    "\n",
    "\"{:>10}\".format(\"data\")\n",
    "# Output: '      data'  → right-aligns in a 10-character field\n",
    "```\n",
    "\n",
    "---\n",
    "\n",
    "### 🧠 Why Use `.format()`?\n",
    "\n",
    "- ✅ Clean and readable\n",
    "- ✅ Works across strings, numbers, dates\n",
    "- ✅ Great for logging, reporting, CLI output\n",
    "\n",
    "Though Python 3.6+ introduced **f-strings**, `.format()` still shines when you need dynamic formatting or are working with older codebases.\n",
    "\n",
    "---\n",
    "\n",
    "Want to see how `.format()` compares to f-strings or how to use it for padding, alignment, or even hex/binary formatting? I can whip up a cheat sheet or CLI-style formatter for you.\n"
   ]
  },
  {
   "cell_type": "markdown",
   "id": "ba40e46d",
   "metadata": {},
   "source": [
    "Great follow-up, Prateek — let's unpack **right alignment** in Python string formatting. It’s especially handy when you're printing tabular data, logs, or CLI output and want everything to line up neatly.\n",
    "\n",
    "---\n",
    "\n",
    "### 📐 What Is Right Alignment?\n",
    "\n",
    "Right alignment means the text or number is **pushed to the right** within a fixed-width space. Any extra space is filled with padding (usually spaces) on the left.\n",
    "\n",
    "---\n",
    "\n",
    "### 🔧 Using `.format()` for Right Alignment\n",
    "\n",
    "```python\n",
    "\"{:>10}\".format(\"data\")\n",
    "```\n",
    "\n",
    "- `>` means **right-align**\n",
    "- `10` is the **width** of the field\n",
    "- `\"data\"` will be padded with spaces on the left to make it 10 characters wide\n",
    "\n",
    "**Output:**\n",
    "```\n",
    "      data\n",
    "```\n",
    "\n",
    "---\n",
    "\n",
    "### 🧪 Real-World Example\n",
    "\n",
    "```python\n",
    "items = [\"apple\", \"banana\", \"cherry\"]\n",
    "for item in items:\n",
    "    print(\"{:>10}\".format(item))\n",
    "```\n",
    "\n",
    "**Output:**\n",
    "```\n",
    "     apple\n",
    "    banana\n",
    "    cherry\n",
    "```\n",
    "\n",
    "This is super useful when you're printing columns of data and want everything to line up — especially if you're building CLI tools or dashboards.\n",
    "\n",
    "---\n",
    "\n",
    "### 🧠 Bonus: Combine with Numbers\n",
    "\n",
    "```python\n",
    "\"{:>10}\".format(123)\n",
    "# Output: '       123'\n",
    "```\n",
    "\n",
    "You can also pad with custom characters:\n",
    "\n",
    "```python\n",
    "\"{:_>10}\".format(\"log\")\n",
    "# Output: '_______log'\n",
    "```\n",
    "\n",
    "---\n",
    "\n",
    "Want to see how this compares with left (`<`) and center (`^`) alignment? Or maybe build a reusable formatter for your CLI outputs? I can help you scaffold that in seconds.\n"
   ]
  },
  {
   "cell_type": "code",
   "execution_count": 1,
   "id": "5988bf00",
   "metadata": {},
   "outputs": [],
   "source": [
    "lst = [199239938,398398398,989379290908,28099873]"
   ]
  },
  {
   "cell_type": "code",
   "execution_count": null,
   "id": "822b7b63",
   "metadata": {},
   "outputs": [],
   "source": [
    "def thousand_seprator(lst):\n",
    "    for i in range(len(lst)):\n",
    "        lst[i] = '{:,}'.format(lst[i])\n",
    "    return lst"
   ]
  },
  {
   "cell_type": "code",
   "execution_count": 3,
   "id": "2c18e743",
   "metadata": {},
   "outputs": [
    {
     "data": {
      "text/plain": [
       "['199,239,938', '398,398,398', '989,379,290,908', '28,099,873']"
      ]
     },
     "execution_count": 3,
     "metadata": {},
     "output_type": "execute_result"
    }
   ],
   "source": [
    "thousand_seprator(lst)"
   ]
  },
  {
   "cell_type": "code",
   "execution_count": 5,
   "id": "d670479b",
   "metadata": {},
   "outputs": [
    {
     "name": "stdout",
     "output_type": "stream",
     "text": [
      "['1,238,876', '878,787', '984,874,847', '98,479,849']\n"
     ]
    }
   ],
   "source": [
    "def thousand_seprator(lst):\n",
    "    for k in range(len(lst)):\n",
    "        lst[k] = \"{:,}\".format(lst[k])\n",
    "        \n",
    "    return lst\n",
    "\n",
    "print(thousand_seprator([1238876,878787,984874847,98479849]))\n"
   ]
  },
  {
   "cell_type": "markdown",
   "id": "ff61a080",
   "metadata": {},
   "source": []
  },
  {
   "cell_type": "code",
   "execution_count": null,
   "id": "023028f7",
   "metadata": {},
   "outputs": [],
   "source": []
  }
 ],
 "metadata": {
  "kernelspec": {
   "display_name": "Python 3",
   "language": "python",
   "name": "python3"
  },
  "language_info": {
   "codemirror_mode": {
    "name": "ipython",
    "version": 3
   },
   "file_extension": ".py",
   "mimetype": "text/x-python",
   "name": "python",
   "nbconvert_exporter": "python",
   "pygments_lexer": "ipython3",
   "version": "3.11.3"
  }
 },
 "nbformat": 4,
 "nbformat_minor": 5
}
