{
 "cells": [
  {
   "cell_type": "code",
   "execution_count": 1,
   "id": "8d981903",
   "metadata": {},
   "outputs": [
    {
     "name": "stdout",
     "output_type": "stream",
     "text": [
      "\n",
      "Your age in minutes is approximately 11,563,200.\n",
      "This is based on your birth year 2003 and the current year 2025.\n"
     ]
    }
   ],
   "source": [
    "import datetime\n",
    "\n",
    "def age_in_minutes(birth_year):\n",
    "    \"\"\"\n",
    "    Calculates a person's approximate age in minutes based on their birth year.\n",
    "\n",
    "    Args:\n",
    "        birth_year (int): The year of birth.\n",
    "\n",
    "    Returns:\n",
    "        int: The person's age in minutes.\n",
    "    \"\"\"\n",
    "    # Get the current year from the system's date\n",
    "    current_year = datetime.date.today().year\n",
    "\n",
    "    # Calculate the age in years\n",
    "    age_in_years = current_year - birth_year\n",
    "\n",
    "    # Calculate the total minutes. For simplicity, we assume 365 days per year\n",
    "    # and do not account for leap years.\n",
    "    minutes_in_a_year = 365 * 24 * 60\n",
    "    total_minutes = age_in_years * minutes_in_a_year\n",
    "    \n",
    "    return total_minutes\n",
    "\n",
    "# Main program loop for user input\n",
    "def main():\n",
    "    while True:\n",
    "        try:\n",
    "            # Get the user's birth year as a string first\n",
    "            user_input = input(\"Enter your birth year (e.g., 1990): \")\n",
    "            birth_year = int(user_input)\n",
    "\n",
    "            # Get the current year for validation\n",
    "            current_year = datetime.date.today().year\n",
    "            \n",
    "            # Check if the year is a valid number\n",
    "            if birth_year > current_year or birth_year < 1900:\n",
    "                print(\"Invalid year. Please enter a year between 1900 and the current year.\")\n",
    "                continue\n",
    "            \n",
    "            # If the input is valid, break the loop\n",
    "            break\n",
    "            \n",
    "        except ValueError:\n",
    "            print(\"Invalid input. Please enter a number for the year.\")\n",
    "\n",
    "    # Call the function with the validated input\n",
    "    total_minutes = age_in_minutes(birth_year)\n",
    "\n",
    "    # Print the final result\n",
    "    print(f\"\\nYour age in minutes is approximately {total_minutes:,}.\")\n",
    "    print(f\"This is based on your birth year {birth_year} and the current year {datetime.date.today().year}.\")\n",
    "\n",
    "if __name__ == \"__main__\":\n",
    "    main()\n"
   ]
  },
  {
   "cell_type": "code",
   "execution_count": null,
   "id": "f1daabb0",
   "metadata": {},
   "outputs": [],
   "source": []
  },
  {
   "cell_type": "code",
   "execution_count": null,
   "id": "5eda5a3b",
   "metadata": {},
   "outputs": [],
   "source": []
  },
  {
   "cell_type": "code",
   "execution_count": null,
   "id": "260cbdff",
   "metadata": {},
   "outputs": [],
   "source": []
  }
 ],
 "metadata": {
  "kernelspec": {
   "display_name": "Python 3",
   "language": "python",
   "name": "python3"
  },
  "language_info": {
   "codemirror_mode": {
    "name": "ipython",
    "version": 3
   },
   "file_extension": ".py",
   "mimetype": "text/x-python",
   "name": "python",
   "nbconvert_exporter": "python",
   "pygments_lexer": "ipython3",
   "version": "3.11.3"
  }
 },
 "nbformat": 4,
 "nbformat_minor": 5
}
