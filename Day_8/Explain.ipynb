{
 "cells": [
  {
   "cell_type": "code",
   "execution_count": 6,
   "id": "9b592b50",
   "metadata": {},
   "outputs": [],
   "source": [
    "def odd(num):\n",
    "    if num == 0 :\n",
    "        return False\n",
    "    elif num%2==0:\n",
    "        return False\n",
    "    else:\n",
    "        return True"
   ]
  },
  {
   "cell_type": "code",
   "execution_count": 7,
   "id": "9f21c878",
   "metadata": {},
   "outputs": [
    {
     "data": {
      "text/plain": [
       "False"
      ]
     },
     "execution_count": 7,
     "metadata": {},
     "output_type": "execute_result"
    }
   ],
   "source": [
    "odd(0)"
   ]
  },
  {
   "cell_type": "code",
   "execution_count": 8,
   "id": "80b01f5b",
   "metadata": {},
   "outputs": [],
   "source": [
    "def even(num):\n",
    "    if num == 0 :\n",
    "        return True\n",
    "    elif num%2==0:\n",
    "        return True\n",
    "    else:\n",
    "        return False"
   ]
  },
  {
   "cell_type": "code",
   "execution_count": 10,
   "id": "6dacd803",
   "metadata": {},
   "outputs": [
    {
     "data": {
      "text/plain": [
       "True"
      ]
     },
     "execution_count": 10,
     "metadata": {},
     "output_type": "execute_result"
    }
   ],
   "source": [
    "even(2)"
   ]
  },
  {
   "cell_type": "code",
   "execution_count": 22,
   "id": "4bdc4e3e",
   "metadata": {},
   "outputs": [],
   "source": [
    "def odd_even(lst):\n",
    "    small_odd = float('inf')\n",
    "     \n",
    "    large_even = float('-inf')\n",
    "    for j in lst:\n",
    "        if j == 0:\n",
    "            if large_even < j:\n",
    "                large_even = j\n",
    "        elif j % 2 == 0:\n",
    "            if large_even < j:\n",
    "                large_even = j\n",
    "        elif j%2 ==1:\n",
    "            if small_odd > j:\n",
    "                small_odd = j\n",
    "                \n",
    "    return  (large_even - small_odd)\n",
    "                "
   ]
  },
  {
   "cell_type": "code",
   "execution_count": 23,
   "id": "f03f5b93",
   "metadata": {},
   "outputs": [
    {
     "name": "stdout",
     "output_type": "stream",
     "text": [
      "101\n"
     ]
    }
   ],
   "source": [
    "l1 = [1,2,4,6,-33,68,-5]\n",
    "print(odd_even(l1))"
   ]
  },
  {
   "cell_type": "markdown",
   "id": "8e98c92a",
   "metadata": {},
   "source": [
    "Exactly, Prateek — the goal is to find the **largest even** and **smallest odd** numbers from the list. So let’s zoom in on how these two lines help achieve that cleanly and safely:\n",
    "\n",
    "```python\n",
    "small_odd = float('inf')\n",
    "large_even = float('-inf')\n",
    "```\n",
    "\n",
    "These are **sentinel values** — smart placeholders that make comparison logic bulletproof. Here's how they help:\n",
    "\n",
    "---\n",
    "\n",
    "### 🔧 Why `float('inf')` for `small_odd`?\n",
    "\n",
    "- You want to find the **smallest odd** number.\n",
    "- Starting with `float('inf')` means **any odd number** will be smaller.\n",
    "- So the first odd number you encounter will **replace** it.\n",
    "- Then, each subsequent odd number is compared to see if it’s even smaller.\n",
    "\n",
    "This guarantees you always end up with the **smallest odd** in the list.\n",
    "\n",
    "---\n",
    "\n",
    "### 🔧 Why `float('-inf')` for `large_even`?\n",
    "\n",
    "- You want the **largest even** number.\n",
    "- Starting with `float('-inf')` means **any even number** will be larger.\n",
    "- So the first even number you hit becomes the new `large_even`.\n",
    "- Each new even number is checked to see if it’s even larger.\n",
    "\n",
    "This ensures you always capture the **largest even**.\n",
    "\n",
    "---\n",
    "\n",
    "### 🧠 Why not use `None`, `0`, or `-1`?\n",
    "\n",
    "Using something like `None` would require extra type checks:\n",
    "```python\n",
    "if small_odd is None or j < small_odd:\n",
    "```\n",
    "Using `0` or `-1` could **accidentally bias** your result if those values are in the list.\n",
    "\n",
    "But with `float('inf')` and `float('-inf')`, you get:\n",
    "- **Clean comparisons**\n",
    "- **No type errors**\n",
    "- **No accidental bias**\n",
    "- **Safe handling of edge cases** (like empty lists or lists with only odd/even numbers)\n",
    "\n",
    "---\n",
    "\n",
    "### 🧪 Quick example\n",
    "\n",
    "```python\n",
    "lst = [7, 2, 9, 4, 1]\n",
    "\n",
    "# small_odd starts as inf → becomes 7 → then 1 (smallest odd)\n",
    "# large_even starts as -inf → becomes 2 → then 4 (largest even)\n",
    "\n",
    "Result = 4 - 1 = 3\n",
    "```\n",
    "\n",
    "---\n",
    "\n",
    "Want to refactor this into a more functional or NumPy-style version next? Or maybe wrap it into a CLI utility with type-safe input validation? I’m game if you are.\n"
   ]
  },
  {
   "cell_type": "code",
   "execution_count": 6,
   "id": "61375988",
   "metadata": {},
   "outputs": [],
   "source": [
    "\n",
    "def is_prime(num):\n",
    "    if num == 1 or num == 0:\n",
    "        return False\n",
    "    for k in range(2,num):\n",
    "        if num % k==0:\n",
    "            return False\n",
    "        else:\n",
    "            return True"
   ]
  },
  {
   "cell_type": "code",
   "execution_count": 8,
   "id": "4e04f83e",
   "metadata": {},
   "outputs": [
    {
     "data": {
      "text/plain": [
       "True"
      ]
     },
     "execution_count": 8,
     "metadata": {},
     "output_type": "execute_result"
    }
   ],
   "source": [
    "is_prime(7)"
   ]
  },
  {
   "cell_type": "code",
   "execution_count": null,
   "id": "ea2f52b0",
   "metadata": {},
   "outputs": [],
   "source": []
  }
 ],
 "metadata": {
  "kernelspec": {
   "display_name": "Python 3",
   "language": "python",
   "name": "python3"
  },
  "language_info": {
   "codemirror_mode": {
    "name": "ipython",
    "version": 3
   },
   "file_extension": ".py",
   "mimetype": "text/x-python",
   "name": "python",
   "nbconvert_exporter": "python",
   "pygments_lexer": "ipython3",
   "version": "3.11.3"
  }
 },
 "nbformat": 4,
 "nbformat_minor": 5
}
