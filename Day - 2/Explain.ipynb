{
 "cells": [
  {
   "cell_type": "code",
   "execution_count": 1,
   "id": "76c08262",
   "metadata": {},
   "outputs": [],
   "source": [
    "from typing import List , Union \n",
    "\n",
    "def convert_add(lst: List[Union[str,int,float]]) -> int :\n",
    "    sum = 0 \n",
    "    \n",
    "    for a in lst :\n",
    "        try :\n",
    "            sum = sum + int(float(a))\n",
    "        except (ValueError , TypeError):\n",
    "            print(f\"Skipping invalid item : {a}\")\n",
    "            continue \n",
    "        \n",
    "    return sum\n",
    " \n",
    "        "
   ]
  },
  {
   "cell_type": "code",
   "execution_count": 2,
   "id": "f817d08c",
   "metadata": {},
   "outputs": [],
   "source": [
    "l2 = [\"ksjs\",12,\"3.5\",\"4\",\"ddwd\",23.322]"
   ]
  },
  {
   "cell_type": "code",
   "execution_count": 3,
   "id": "daf872fe",
   "metadata": {},
   "outputs": [
    {
     "name": "stdout",
     "output_type": "stream",
     "text": [
      "Skipping invalid item : ksjs\n",
      "Skipping invalid item : ddwd\n"
     ]
    },
    {
     "data": {
      "text/plain": [
       "42"
      ]
     },
     "execution_count": 3,
     "metadata": {},
     "output_type": "execute_result"
    }
   ],
   "source": [
    "convert_add(l2)"
   ]
  },
  {
   "cell_type": "markdown",
   "id": "f9a83d83",
   "metadata": {},
   "source": [
    "\n",
    "\n",
    "```python\n",
    "from typing import List, Union\n",
    "```\n",
    "\n",
    "Let’s unpack what it does — and why it’s useful in Python, especially for someone like you who values clarity and reproducibility.\n",
    "\n",
    "---\n",
    "\n",
    "### 🧠 What It Means\n",
    "\n",
    "This line imports two type hinting tools from Python’s `typing` module:\n",
    "\n",
    "- **`List`**: Used to specify that a variable is a list and what type its elements should be.\n",
    "- **`Union`**: Used when a variable can be more than one type — for example, either a `str`, `int`, or `float`.\n",
    "\n",
    "---\n",
    "\n",
    "### 🔍 Why Use It?\n",
    "\n",
    "Type hints help:\n",
    "- **Improve readability**: Anyone reading your code knows what types to expect.\n",
    "- **Catch bugs early**: Tools like `mypy` or IDEs can warn you if you pass the wrong type.\n",
    "- **Document intent**: Makes your code self-explanatory and easier to maintain.\n",
    "\n",
    "---\n",
    "\n",
    "### 🧪 Example in Context\n",
    "\n",
    "```python\n",
    "def convert_add(lst: List[Union[str, int, float]]) -> int:\n",
    "```\n",
    "\n",
    "This means:\n",
    "- `lst` should be a list containing elements that are either strings, integers, or floats.\n",
    "- The function will return an integer.\n",
    "\n",
    "So a valid input could be:\n",
    "```python\n",
    "[\"1\", 2, 3.5, \"bad\"]\n",
    "```\n",
    "\n",
    "And the function will try to convert each item to a float, then to an int, and sum them — skipping anything invalid.\n",
    "\n",
    "---\n",
    "\n",
    "Want to go deeper into type hinting with `TypedDict`, `Literal`, or even `Protocol` for more complex interfaces? Or maybe explore how to enforce types at runtime with `pydantic` or `typeguard`?\n"
   ]
  },
  {
   "cell_type": "markdown",
   "id": "89aac8dc",
   "metadata": {},
   "source": []
  },
  {
   "cell_type": "markdown",
   "id": "96be648b",
   "metadata": {},
   "source": []
  },
  {
   "cell_type": "markdown",
   "id": "635e0169",
   "metadata": {},
   "source": [
    "\n",
    "---\n",
    "\n",
    "### 🔍 Function Signature\n",
    "\n",
    "```python\n",
    "def convert_add(lst: List[Union[str, int, float]]) -> int:\n",
    "```\n",
    "\n",
    "- **`lst`**: The input is expected to be a list containing elements that are either `str`, `int`, or `float`.\n",
    "- **`-> int`**: The function will return an integer — the sum of all valid items after conversion.\n",
    "\n",
    "---\n",
    "\n",
    "### 🧮 Inside the Function\n",
    "\n",
    "```python\n",
    "total = 0\n",
    "```\n",
    "- Initializes a running total to accumulate the sum.\n",
    "\n",
    "---\n",
    "\n",
    "### 🔁 Loop Through Each Item\n",
    "\n",
    "```python\n",
    "for item in lst:\n",
    "```\n",
    "- Iterates over each element in the list.\n",
    "\n",
    "---\n",
    "\n",
    "### 🔄 Conversion Logic\n",
    "\n",
    "```python\n",
    "try:\n",
    "    total += int(float(item))\n",
    "```\n",
    "\n",
    "- **`float(item)`**: Converts the item to a float first. This allows it to handle strings like `\"2.5\"` or numbers like `2.0`.\n",
    "- **`int(...)`**: Converts the float to an integer (truncates decimal part).\n",
    "- **`+=`**: Adds the converted integer to the running total.\n",
    "\n",
    "---\n",
    "\n",
    "### 🚫 Error Handling\n",
    "\n",
    "```python\n",
    "except (ValueError, TypeError):\n",
    "    print(f\"Skipping invalid item: {item}\")\n",
    "    continue\n",
    "```\n",
    "\n",
    "- If the item can't be converted (e.g., `\"hello\"` or `None`), it catches the error.\n",
    "- **`ValueError`**: Raised when conversion from string to float fails.\n",
    "- **`TypeError`**: Raised when the item is of an unsupported type (like `None`).\n",
    "- Logs the skipped item and continues to the next one.\n",
    "\n",
    "---\n",
    "\n",
    "### ✅ Final Output\n",
    "\n",
    "```python\n",
    "return total\n",
    "```\n",
    "\n",
    "- Returns the final sum of all valid, converted items.\n",
    "\n",
    "---\n",
    "\n",
    "### 🧪 Example\n",
    "\n",
    "```python\n",
    "lst = [\"1\", \"2.5\", 3, \"bad\", None]\n",
    "```\n",
    "\n",
    "- `\"1\"` → `1`\n",
    "- `\"2.5\"` → `2.5` → `2`\n",
    "- `3` → `3`\n",
    "- `\"bad\"` → skipped\n",
    "- `None` → skipped\n",
    "\n",
    "**Total = 1 + 2 + 3 = 6**\n",
    "\n",
    "---\n",
    "\n",
    "Would you like to make this stricter (e.g., raise errors), more flexible (e.g., preserve floats), or wrap it into a CLI or dashboard module? Happy to co-design it with you.\n"
   ]
  },
  {
   "cell_type": "code",
   "execution_count": null,
   "id": "108b9798",
   "metadata": {},
   "outputs": [],
   "source": [
    "\n",
    "\n"
   ]
  },
  {
   "cell_type": "code",
   "execution_count": null,
   "id": "1aa52a50",
   "metadata": {},
   "outputs": [],
   "source": []
  },
  {
   "cell_type": "markdown",
   "id": "70c30e51",
   "metadata": {},
   "source": [
    "# Extra Question "
   ]
  },
  {
   "cell_type": "code",
   "execution_count": 4,
   "id": "37ab6d16",
   "metadata": {},
   "outputs": [],
   "source": [
    "def check_duplicate(lst):\n",
    "    seen = set()\n",
    "    for item in lst:\n",
    "        if item in seen:\n",
    "            return True\n",
    "        seen.add(item)\n",
    "    return False"
   ]
  },
  {
   "cell_type": "code",
   "execution_count": 5,
   "id": "c3bd33da",
   "metadata": {},
   "outputs": [],
   "source": [
    "l11 = [1,2,3,4,5,6,7,8,9,10]\n",
    "l12 = [1,1,2,3,33,4,4,5]"
   ]
  },
  {
   "cell_type": "code",
   "execution_count": 8,
   "id": "4209c3db",
   "metadata": {},
   "outputs": [
    {
     "data": {
      "text/plain": [
       "False"
      ]
     },
     "execution_count": 8,
     "metadata": {},
     "output_type": "execute_result"
    }
   ],
   "source": [
    "check_duplicate(l11)\n"
   ]
  },
  {
   "cell_type": "code",
   "execution_count": 9,
   "id": "2611cbf7",
   "metadata": {},
   "outputs": [
    {
     "data": {
      "text/plain": [
       "True"
      ]
     },
     "execution_count": 9,
     "metadata": {},
     "output_type": "execute_result"
    }
   ],
   "source": [
    "check_duplicate(l12)"
   ]
  },
  {
   "cell_type": "code",
   "execution_count": null,
   "id": "ae28ff8d",
   "metadata": {},
   "outputs": [],
   "source": [
    "def fun(lst):\n",
    "    seen = set()\n",
    "    for j in lst :\n",
    "        if j in seen :\n",
    "            print(f\"Duplicate found - {j}\")\n",
    "            \n",
    "        else :\n",
    "            seen.add(j)\n",
    "    print(\"No duplicates found\")\n",
    "    return False"
   ]
  },
  {
   "cell_type": "code",
   "execution_count": 14,
   "id": "360fc731",
   "metadata": {},
   "outputs": [
    {
     "name": "stdout",
     "output_type": "stream",
     "text": [
      "Duplicate found - 1\n"
     ]
    },
    {
     "data": {
      "text/plain": [
       "True"
      ]
     },
     "execution_count": 14,
     "metadata": {},
     "output_type": "execute_result"
    }
   ],
   "source": [
    "fun(l12)"
   ]
  },
  {
   "cell_type": "code",
   "execution_count": 15,
   "id": "2571d309",
   "metadata": {},
   "outputs": [
    {
     "name": "stdout",
     "output_type": "stream",
     "text": [
      "No duplicates found\n"
     ]
    },
    {
     "data": {
      "text/plain": [
       "False"
      ]
     },
     "execution_count": 15,
     "metadata": {},
     "output_type": "execute_result"
    }
   ],
   "source": [
    "fun(l11)"
   ]
  },
  {
   "cell_type": "code",
   "execution_count": null,
   "id": "60581355",
   "metadata": {},
   "outputs": [],
   "source": []
  }
 ],
 "metadata": {
  "kernelspec": {
   "display_name": "Python 3",
   "language": "python",
   "name": "python3"
  },
  "language_info": {
   "codemirror_mode": {
    "name": "ipython",
    "version": 3
   },
   "file_extension": ".py",
   "mimetype": "text/x-python",
   "name": "python",
   "nbconvert_exporter": "python",
   "pygments_lexer": "ipython3",
   "version": "3.11.3"
  }
 },
 "nbformat": 4,
 "nbformat_minor": 5
}
